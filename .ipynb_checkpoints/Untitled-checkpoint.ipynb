{
 "cells": [
  {
   "cell_type": "code",
   "execution_count": 554,
   "id": "charged-royalty",
   "metadata": {},
   "outputs": [],
   "source": [
    "import numpy as np\n",
    "import numpy.linalg as LA\n",
    "import pandas as pd\n",
    "import matplotlib.pyplot as plt\n",
    "from sklearn.decomposition import PCA\n",
    "from sklearn.preprocessing import StandardScaler \n",
    "from sklearn.naive_bayes import GaussianNB\n",
    "pca = PCA(n_components=2)\n",
    "SS = StandardScaler()"
   ]
  },
  {
   "cell_type": "markdown",
   "id": "authorized-madrid",
   "metadata": {},
   "source": [
    "# Conjuto de datos"
   ]
  },
  {
   "cell_type": "code",
   "execution_count": 60,
   "id": "marine-wireless",
   "metadata": {},
   "outputs": [],
   "source": [
    "headers = \"Word_freq_make, Word_freq_address, Word_freq_all, Word_freq_3d, Word_freq_our, Word_freq_over, Word_freq_remove, Word_freq_internet, Word_freq_order, Word_freq_mail, Word_freq_receive, Word_freq_will, Word_freq_people, Word_freq_report, Word_freq_addresses, Word_freq_free, Word_freq_business, Word_freq_email, Word_freq_you, Word_freq_credit, Word_freq_your, Word_freq_font, Word_freq_000, Word_freq_money, Word_freq_hp, Word_freq_hpl, Word_freq_george, Word_freq_650, Word_freq_lab, Word_freq_labs, Word_freq_telnet, Word_freq_857, Word_freq_data, Word_freq_415, Word_freq_85, Word_freq_technology, Word_freq_1999, Word_freq_parts, Word_freq_pm, Word_freq_direct, Word_freq_cs, Word_freq_meeting, Word_freq_original, Word_freq_project, Word_freq_re, Word_freq_edu, Word_freq_table, Word_freq_conference, Char_freq1, Char_freq2, Char_freq3, Char_freq4, Char_freq5, Char_freq6, Capital_run_length_average, Capital_run_length_longest, Capital_run_length_total\"\n",
    "headers = np.concatenate([np.array(headers.split(\",\")),[\"Spam\"]],axis=0)"
   ]
  },
  {
   "cell_type": "code",
   "execution_count": 564,
   "id": "promotional-douglas",
   "metadata": {},
   "outputs": [],
   "source": [
    "getTrainingDataset = lambda i: pd.read_csv(\"./data/spambase-5-{}tra.dat\".format(i),sep=\",\",header=None)\n",
    "getTestingDataset  = lambda i: pd.read_csv(\"./data/spambase-5-{}tst.dat\".format(i),sep=\",\",header=None)\n",
    "def setColumnsToDataframe(df):\n",
    "    df.columns=headers\n",
    "    return df\n",
    "def augmentX(X):\n",
    "    ones  = np.ones(X.shape[1])\n",
    "    X_aug = np.vstack([ones,X]) \n",
    "    return X_aug\n",
    "def getDataAndTarget(df):\n",
    "    X = df.values\n",
    "    y = X[:,-1]\n",
    "    return X[:,:-1],y \n",
    "dfs_train          = [getTrainingDataset(i) for i in range(1,6) ]\n",
    "dfs_train          = list(map(setColumnsToDataframe,dfs_train))\n",
    "Xys_train          = list(map (getDataAndTarget,dfs_train) )\n",
    "# \n",
    "dfs_test           = [getTestingDataset(i) for i in range(1,6) ]\n",
    "dfs_test           = list(map(setColumnsToDataframe,dfs_test))\n",
    "Xys_test           = list(map (getDataAndTarget,dfs_test) )\n",
    "# XX= Xys_train[0][0]\n",
    "# SS.fit(XX)"
   ]
  },
  {
   "cell_type": "code",
   "execution_count": 558,
   "id": "consolidated-council",
   "metadata": {},
   "outputs": [
    {
     "data": {
      "image/png": "[encoded data removed]",
      "text/plain": [
       "<Figure size 504x504 with 1 Axes>"
      ]
     },
     "metadata": {},
     "output_type": "display_data"
    }
   ],
   "source": [
    "yyy = Xys_train[0][1]\n",
    "n   = y.shape[0]\n",
    "ones = ((yyy.sum())/n)*100\n",
    "zero = ((n - ones)/n)*100\n",
    "labels = 'No Spam', 'Spam'\n",
    "sizes = [zero,ones]\n",
    "explode = (0.1, 0 )  \n",
    "fig1, ax1 = plt.subplots(figsize=(7,7))\n",
    "ax1.pie(sizes, \n",
    "        explode=explode, labels=labels, \n",
    "        autopct='%1.1f%%',\n",
    "        shadow=False, startangle=90,colors=[\"#E91E63\",\"#7C4DFF\"])\n",
    "ax1.axis('equal')  # Equal aspect ratio ensures that pie is drawn as a circle.\n",
    "\n",
    "plt.show()\n",
    "# zero\n",
    "# ones+zero ==n"
   ]
  },
  {
   "cell_type": "markdown",
   "id": "fantastic-mathematics",
   "metadata": {},
   "source": [
    "# Clasificador bayesiano"
   ]
  },
  {
   "cell_type": "code",
   "execution_count": 763,
   "id": "sharing-encoding",
   "metadata": {},
   "outputs": [],
   "source": [
    "def getWiByClass(X,y):\n",
    "    w0_mask = y==0\n",
    "    w1_mask = y==1\n",
    "    SS.fit(X)\n",
    "    w0      = SS.transform(X[w0_mask])\n",
    "    w1      = SS.transform(X[w1_mask])\n",
    "    return SS,[w0,w1]\n",
    "def getParameters(i):\n",
    "    X , y   = Xys_train[i]\n",
    "    _,(w0,w1) = getWiByClass(X,y)\n",
    "    w0_mean = w0.mean(axis=0)\n",
    "    w1_mean = w1.mean(axis=0)\n",
    "    w0_cov  = np.cov(w0.T,bias=False)\n",
    "    w1_cov  = np.cov(w1.T,bias=False)\n",
    "    D       = X.shape[1]\n",
    "    MEANS   = [w0_mean,w1_mean]\n",
    "    COVS    = [w0_cov,w1_cov]\n",
    "    Ns      = [w0.shape[0],w1.shape[0]]\n",
    "    return MEANS,COVS,Ns\n",
    "MEANS,COVS,Ns = getParameters(0)"
   ]
  },
  {
   "cell_type": "code",
   "execution_count": 471,
   "id": "reflected-price",
   "metadata": {},
   "outputs": [],
   "source": [
    "def px(x,mean,cov):\n",
    "    xMean       =(x-mean)\n",
    "    covInv      = LA.inv(cov)\n",
    "    covDet      = LA.det(cov)\n",
    "    exp         = (-0.5*xMean.T@covInv)@(xMean)\n",
    "    denominator = np.power(2*np.pi,D/2)*np.sqrt(covDet)\n",
    "    return (1/denominator)*exp\n",
    "def bayesClassifier(x):\n",
    "    results = []\n",
    "    for wi_mean,wi_cov in zip(MEANS,COVS):\n",
    "        results.append(px(x,wi_mean,wi_cov))\n",
    "    results = np.array(results)\n",
    "    return np.argmax(results)\n",
    "def classify(X,clf):\n",
    "    results = []\n",
    "    for xi in X:\n",
    "        results.append(clf(xi))\n",
    "    return np.array(results)"
   ]
  },
  {
   "cell_type": "code",
   "execution_count": 206,
   "id": "union-birth",
   "metadata": {},
   "outputs": [],
   "source": [
    "def med_px(xi):\n",
    "    results = []\n",
    "    for wi_mean,wi_cov in zip(MEANS,COVS):\n",
    "        xMean = xi-wi_mean\n",
    "        px = np.sqrt(xMean.T@xMean)\n",
    "        results.append(px)\n",
    "    return np.argmin(np.array(results))        "
   ]
  },
  {
   "cell_type": "code",
   "execution_count": 214,
   "id": "dated-packaging",
   "metadata": {},
   "outputs": [],
   "source": [
    "def mmd_px(xi):\n",
    "    results = []\n",
    "    for wi_mean,wi_cov in zip(MEANS,COVS):\n",
    "        xMean = xi-wi_mean\n",
    "        nis =(Ns[0]-1)+(Ns[1]-1)\n",
    "        sigma = ((1 / nis)*nis)*wi_cov\n",
    "        px    = np.sqrt(xMean.T@sigma@xMean)\n",
    "        results.append(px)\n",
    "    return np.argmin(np.array(results))\n"
   ]
  },
  {
   "cell_type": "code",
   "execution_count": 473,
   "id": "confidential-business",
   "metadata": {},
   "outputs": [],
   "source": [
    "X_test,y_test = Xys_test[0]\n",
    "y_pred        = classify(SS.transform(X_test),bayesClassifier)"
   ]
  },
  {
   "cell_type": "code",
   "execution_count": 475,
   "id": "imported-simon",
   "metadata": {},
   "outputs": [
    {
     "data": {
      "text/plain": [
       "0.6054347826086957"
      ]
     },
     "execution_count": 475,
     "metadata": {},
     "output_type": "execute_result"
    }
   ],
   "source": [
    "(y_test==y_pred).astype(int).sum()/y_test.shape[0]"
   ]
  },
  {
   "cell_type": "code",
   "execution_count": 476,
   "id": "potential-reception",
   "metadata": {},
   "outputs": [],
   "source": [
    "X_test,y_test = Xys_test[0]\n",
    "y_pred = classify(SS.transform(X_test),med_px)"
   ]
  },
  {
   "cell_type": "code",
   "execution_count": 477,
   "id": "exclusive-siemens",
   "metadata": {},
   "outputs": [
    {
     "data": {
      "text/plain": [
       "0.9065217391304348"
      ]
     },
     "execution_count": 477,
     "metadata": {},
     "output_type": "execute_result"
    }
   ],
   "source": [
    "(y_test==y_pred).astype(int).sum()/y_test.shape[0]"
   ]
  },
  {
   "cell_type": "code",
   "execution_count": 478,
   "id": "unusual-edition",
   "metadata": {},
   "outputs": [],
   "source": [
    "X_test,y_test = Xys_test[0]\n",
    "y_pred = classify(SS.transform(X_test),mmd_px)"
   ]
  },
  {
   "cell_type": "code",
   "execution_count": 479,
   "id": "confirmed-flood",
   "metadata": {},
   "outputs": [
    {
     "data": {
      "text/plain": [
       "0.4391304347826087"
      ]
     },
     "execution_count": 479,
     "metadata": {},
     "output_type": "execute_result"
    }
   ],
   "source": [
    "(y_test==y_pred).astype(int).sum()/y_test.shape[0]"
   ]
  },
  {
   "cell_type": "markdown",
   "id": "obvious-trial",
   "metadata": {},
   "source": [
    "# Naive Bayes"
   ]
  },
  {
   "cell_type": "code",
   "execution_count": 599,
   "id": "sapphire-nigeria",
   "metadata": {},
   "outputs": [
    {
     "data": {
      "text/plain": [
       "0.825"
      ]
     },
     "execution_count": 599,
     "metadata": {},
     "output_type": "execute_result"
    }
   ],
   "source": [
    "def naiveFit(i):\n",
    "    clf = GaussianNB()\n",
    "    SS = StandardScaler()\n",
    "    X_train,y_train = Xys_train[i]\n",
    "    SS.fit(X_train)\n",
    "    clf.fit(SS.transform(X_train),y_train)\n",
    "    return SS,clf\n",
    "\n",
    "def naivePredict(i):\n",
    "    X_test,y_test = Xys_test[i]\n",
    "    n             = y_test.shape[0]\n",
    "    SS,clf        = naiveFit(i)\n",
    "    return ((clf.predict(SS.transform(X_test)) == y_test).astype(int).sum())/n\n",
    "naivePredict(1)\n",
    "    "
   ]
  },
  {
   "cell_type": "markdown",
   "id": "about-complaint",
   "metadata": {},
   "source": [
    "# Clasificador Perceptron"
   ]
  },
  {
   "cell_type": "code",
   "execution_count": 769,
   "id": "still-louisville",
   "metadata": {},
   "outputs": [
    {
     "data": {
      "text/plain": [
       "(False, True)"
      ]
     },
     "execution_count": 769,
     "metadata": {},
     "output_type": "execute_result"
    }
   ],
   "source": [
    "def cost_fn(X,w):\n",
    "    return (-w.T@X).sum()\n",
    "def GD(X,**kwargs):\n",
    "#     w             = np.random.rand(X.shape[0]).reshape(-1,1)\n",
    "    w             = np.ones(X.shape[0]).reshape(-1,1)\n",
    "    lr            = kwargs.get('learning_rate',0.01)\n",
    "    epochs        = kwargs.get('epochs',100)\n",
    "    show_progress = kwargs.get('show_progress',False )\n",
    "    jpws          = []\n",
    "    i             = 0\n",
    "    predicate     = True\n",
    "    max_iteration_reached = False\n",
    "    convergence_reached = False\n",
    "    predicate = True \n",
    "    while(predicate):\n",
    "        gxs                   = w.T@X\n",
    "        mask0                 = (gxs >0).T.flatten()\n",
    "        mask1                 = (gxs <=0).T.flatten()\n",
    "        _X_                   = X[:,mask1]\n",
    "        delta_Jw              = -(_X_.sum(axis=1)).reshape(-1,1)\n",
    "        Jw                    = cost_fn(_X_,w)\n",
    "        w                     = w + (lr*delta_Jw)\n",
    "        max_iteration_reached = i>= epochs\n",
    "        convergence_reached   = np.all(mask0)\n",
    "        predicate             = not ( max_iteration_reached or convergence_reached )\n",
    "        i+=1\n",
    "    return w,convergence_reached,max_iteration_reached\n",
    "    \n",
    "    \n",
    "INDEX=1\n",
    "X_train,y_train = Xys_train[INDEX]\n",
    "SS,(w0,w1)           = getWiByClass(X_train,y_train)\n",
    "XXX     = augmentX(np.concatenate([w0,-w1]).T)\n",
    "W,cr,mr = GD(XXX,epochs=10000,learning_rate=0.0001)\n",
    "cr,mr"
   ]
  },
  {
   "cell_type": "code",
   "execution_count": 770,
   "id": "false-polyester",
   "metadata": {},
   "outputs": [
    {
     "data": {
      "text/plain": [
       "0.866304347826087"
      ]
     },
     "execution_count": 770,
     "metadata": {},
     "output_type": "execute_result"
    }
   ],
   "source": [
    "X_test , y_test = Xys_test[INDEX]\n",
    "X = augmentX(SS.transform(X_test).T)\n",
    "n = y_test.shape[0]\n",
    "(((W.T@X)>0).astype(int) == y_test).astype(int).sum()/n"
   ]
  },
  {
   "cell_type": "markdown",
   "id": "greatest-cowboy",
   "metadata": {},
   "source": [
    "# Regresion logistica"
   ]
  },
  {
   "cell_type": "code",
   "execution_count": 774,
   "id": "downtown-demand",
   "metadata": {},
   "outputs": [],
   "source": [
    "def sigmoid(x):\n",
    "    return 1/(1+np.exp(-x))\n",
    "\n",
    "\n",
    "#Learning rate\n",
    "def gradient_descent(X,y,**kwargs):\n",
    "    LAMBDA     = kwargs.get(\"LAMBDA\",1/10**3)\n",
    "    epochs     = kwargs.get(\"epochs\",100)\n",
    "    LR         = kwargs.get(\"learning_rate\",0.001)\n",
    "    threshold  = kwargs.get(\"threshold\",1/(np.power(10,3)))\n",
    "    wLen       = X.shape[0]\n",
    "    w          = np.random.rand(wLen).reshape(-1,1)\n",
    "    predicate  =  True\n",
    "    i          = 0 \n",
    "    while(predicate):\n",
    "#       Linear discriminant function\n",
    "        x                   = (w.T@X)\n",
    "#       Mapping values to (0,1)\n",
    "        _y                  = sigmoid(x)\n",
    "#       Supervised learning  \n",
    "        yy                  = (_y-y)\n",
    "        delta_Lw            = X@(yy.T)\n",
    "#       w(i) vector of weights at iteration k\n",
    "        w_temp              = w \n",
    "#       w(i+1) new vector of weights\n",
    "        w                   = w-(LR*delta_Lw) \n",
    "#     + LAMBDA*w\n",
    "#       check exit conditions: Max iteration reached or Convergence\n",
    "        norm_diff           = LA.norm(np.abs(w_temp-w))\n",
    "        max_iter_reached    = epochs-1<=i\n",
    "        convergence_reached = norm_diff < threshold\n",
    "        predicate = not(( max_iter_reached or convergence_reached ))\n",
    "#       Increment the counter  \n",
    "        i+=1 \n",
    "    return [w,max_iter_reached,convergence_reached]"
   ]
  },
  {
   "cell_type": "code",
   "execution_count": 779,
   "id": "complicated-baking",
   "metadata": {},
   "outputs": [
    {
     "data": {
      "text/plain": [
       "(True, False)"
      ]
     },
     "execution_count": 779,
     "metadata": {},
     "output_type": "execute_result"
    }
   ],
   "source": [
    "INDEX=1\n",
    "X_train,y_train = Xys_train[INDEX]\n",
    "SS,(w0,w1)      = getWiByClass(X_train,y_train)\n",
    "XXX             = augmentX(np.concatenate([w0,-w1]).T)\n",
    "w,mr,cr = gradient_descent(XXX,y_train)\n",
    "mr,cr"
   ]
  },
  {
   "cell_type": "code",
   "execution_count": 780,
   "id": "jewish-medline",
   "metadata": {},
   "outputs": [
    {
     "data": {
      "text/plain": [
       "0.8739130434782608"
      ]
     },
     "execution_count": 780,
     "metadata": {},
     "output_type": "execute_result"
    }
   ],
   "source": [
    "X_test , y_test = Xys_test[INDEX]\n",
    "X = augmentX(SS.transform(X_test).T)\n",
    "n = y_test.shape[0]\n",
    "(((w.T@X)>0).astype(int) == y_test).astype(int).sum()/n"
   ]
  }
 ],
 "metadata": {
  "kernelspec": {
   "display_name": "Python 3",
   "language": "python",
   "name": "python3"
  },
  "language_info": {
   "codemirror_mode": {
    "name": "ipython",
    "version": 3
   },
   "file_extension": ".py",
   "mimetype": "text/x-python",
   "name": "python",
   "nbconvert_exporter": "python",
   "pygments_lexer": "ipython3",
   "version": "3.8.5"
  }
 },
 "nbformat": 4,
 "nbformat_minor": 5
}
